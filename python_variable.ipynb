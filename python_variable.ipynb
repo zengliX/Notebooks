{
 "cells": [
  {
   "cell_type": "markdown",
   "metadata": {},
   "source": [
    "# Python: assignment, function argument passing, views, and copies"
   ]
  },
  {
   "cell_type": "markdown",
   "metadata": {},
   "source": [
    "When writing Python codes, I sometimes get a lot of question marks in my head when applying certain operations on variables: does it change the variable in place? does it return a copy or a reference of the orginal variable? If I change a submatrix, would the changes also be reflected in the original?\n",
    "\n",
    "To get a better understanding of how things work in Python, I ran a couple of experiments."
   ]
  },
  {
   "cell_type": "markdown",
   "metadata": {},
   "source": [
    "## Assignment and function argument passing\n",
    "**Take home messages**:\n",
    "- Python **do not make copies** when performing normal assignment, function argument passing, or function returning\n",
    "- There are two types of variables in Python: **mutable** and **immutable**. Operations like `+=` are inplace for mutables,but return a new object for immutables."
   ]
  },
  {
   "cell_type": "markdown",
   "metadata": {},
   "source": [
    "### Assignment"
   ]
  },
  {
   "cell_type": "code",
   "execution_count": 1,
   "metadata": {},
   "outputs": [
    {
     "name": "stdout",
     "output_type": "stream",
     "text": [
      "id of a: 4546375920\n",
      "id of b: 4546375920\n",
      "change b\n",
      "id of a: 4546375920\n",
      "id of b: 4546375944\n",
      "a is: 3.3\n",
      "b is: 4.3\n"
     ]
    }
   ],
   "source": [
    "## example 1: float\n",
    "a = 3.3\n",
    "b = a\n",
    "print(\"id of a:\",id(a))\n",
    "print(\"id of b:\",id(b))\n",
    "\n",
    "print(\"change b\")\n",
    "b += 1\n",
    "print(\"id of a:\",id(a))\n",
    "print(\"id of b:\",id(b))\n",
    "print(\"a is:\",a)\n",
    "print(\"b is:\",b)"
   ]
  },
  {
   "cell_type": "markdown",
   "metadata": {},
   "source": [
    "In the above example, `b` is assigned with float `a`. By checking memory location of `a` and `b`, we can see they both point to the same memory. However, after applying the `+=` operator, `b` points to another location. The change is only effective to `b`, not to `a`.\n",
    "\n",
    "Next, we experiment with strings:"
   ]
  },
  {
   "cell_type": "code",
   "execution_count": 2,
   "metadata": {},
   "outputs": [
    {
     "name": "stdout",
     "output_type": "stream",
     "text": [
      "id of a: 4504620312\n",
      "id of b: 4504620312\n",
      "change b\n",
      "id of a: 4504620312\n",
      "id of b: 4546869808\n",
      "a is: string\n",
      "b is: string_new\n"
     ]
    }
   ],
   "source": [
    "## example 2: string\n",
    "a = \"string\"\n",
    "b = a\n",
    "print(\"id of a:\",id(a))\n",
    "print(\"id of b:\",id(b))\n",
    "\n",
    "print(\"change b\")\n",
    "b += \"_new\"\n",
    "print(\"id of a:\",id(a))\n",
    "print(\"id of b:\",id(b))\n",
    "print(\"a is:\",a)\n",
    "print(\"b is:\",b)"
   ]
  },
  {
   "cell_type": "markdown",
   "metadata": {},
   "source": [
    "Behaviors are similar to those observed from the float example. \n",
    "\n",
    "How about list?"
   ]
  },
  {
   "cell_type": "code",
   "execution_count": 4,
   "metadata": {},
   "outputs": [
    {
     "name": "stdout",
     "output_type": "stream",
     "text": [
      "id of a: 4546719176\n",
      "id of b: 4546719176\n",
      "change b\n",
      "id of a: 4546719176\n",
      "id of b: 4546719176\n",
      "a is: [0, 1, 2, 0, 1, 2]\n",
      "b is: [0, 1, 2, 0, 1, 2]\n"
     ]
    }
   ],
   "source": [
    "## example 3: list\n",
    "a = [0,1,2]\n",
    "b = a\n",
    "print(\"id of a:\",id(a))\n",
    "print(\"id of b:\",id(b))\n",
    "\n",
    "print(\"change b\")\n",
    "b += [0,1,2]\n",
    "print(\"id of a:\",id(a))\n",
    "print(\"id of b:\",id(b))\n",
    "print(\"a is:\",a)\n",
    "print(\"b is:\",b)\n"
   ]
  },
  {
   "cell_type": "markdown",
   "metadata": {},
   "source": [
    "This time we observe different behaviors: after `+=`, address of `b` did not change; the change made to `b` also affected `a`.\n",
    "\n",
    "The differences in such behaviors are due to the difference between **mutable** and **immutable** variable types. The immutable type, as the name suggests, cannot be modified. Thus operations, such as `+=, -=, ...`, would result in a new object. With mutables, the operations can make changes in place, thus object address remains the same."
   ]
  },
  {
   "cell_type": "markdown",
   "metadata": {},
   "source": [
    "### Function argument passing"
   ]
  },
  {
   "cell_type": "code",
   "execution_count": 5,
   "metadata": {},
   "outputs": [
    {
     "name": "stdout",
     "output_type": "stream",
     "text": [
      "example 1: int ------------\n",
      "id of a: 4501985328\n",
      "id in function: 4501985328\n",
      "id of the returned value b: 4501985328\n",
      "example 2: list ------------\n",
      "id of a: 4522021640\n",
      "id in function: 4522021640\n",
      "id of the returned value b: 4522021640\n"
     ]
    }
   ],
   "source": [
    "def f(x):\n",
    "    print(\"id in function:\",id(x))\n",
    "    return x\n",
    "\n",
    "## example 1: int\n",
    "print(\"example 1: int ------------\")\n",
    "a = 1\n",
    "print(\"id of a:\",id(a))\n",
    "b = f(a)\n",
    "print(\"id of the returned value b:\",id(b))\n",
    "\n",
    "### example 2: list\n",
    "print(\"example 2: list ------------\")\n",
    "a = [1,2,3]\n",
    "print(\"id of a:\",id(a))\n",
    "b = f(a)\n",
    "print(\"id of the returned value b:\",id(b))"
   ]
  },
  {
   "cell_type": "markdown",
   "metadata": {},
   "source": [
    "In each example above, we print three addresses:\n",
    "1. address of the variable to be passed into a function\n",
    "2. address of the variable that the function receives\n",
    "3. address of the variable returned by the function\n",
    "\n",
    "All the 3 addresses are the same for both mutable and immutable types. There is no copy of any kind involved in the process of argument passing or function returning."
   ]
  },
  {
   "cell_type": "markdown",
   "metadata": {},
   "source": [
    "## More experiments with different Python objects\n",
    "\n",
    "### Python lists"
   ]
  },
  {
   "cell_type": "markdown",
   "metadata": {},
   "source": [
    "Take home message:\n",
    "- subsetting creates a new object\n",
    "- `listA + listB` creates a new list; `listA += listB` modifies `listA` in place"
   ]
  },
  {
   "cell_type": "code",
   "execution_count": 6,
   "metadata": {},
   "outputs": [
    {
     "name": "stdout",
     "output_type": "stream",
     "text": [
      "I. subsetting: ------------\n",
      "id of x: 4546905608\n",
      "id o y: 4546718664\n",
      "change y:\n",
      "x is: [0, 1, 2, 3, 4, 5, 6, 7, 8, 9]\n",
      "y is: [-1, 1, 2, 3, 4]\n",
      "II. += vs + ------------\n",
      "id of a: 4545716040\n",
      "id of b: 4546869960\n",
      "id of a: 4545716040\n"
     ]
    }
   ],
   "source": [
    "# list subsetting\n",
    "print(\"I. subsetting: ------------\")\n",
    "x = list(range(10))\n",
    "y = x[:5]\n",
    "print(\"id of x:\",id(x))\n",
    "print(\"id o y:\",id(y)) # y is at a different location\n",
    "print(\"change y:\")\n",
    "y[0]=-1\n",
    "print(\"x is:\",x) # x is not affected\n",
    "print(\"y is:\",y) \n",
    "\n",
    "# += vs +\n",
    "print(\"II. += vs + ------------\")\n",
    "a = [1,2,3]\n",
    "print(\"id of a:\",id(a))\n",
    "b = a + [4]\n",
    "print(\"id of b:\",id(b)) # different object\n",
    "a += [1]\n",
    "print(\"id of a:\",id(a)) # change in place\n"
   ]
  },
  {
   "cell_type": "markdown",
   "metadata": {},
   "source": [
    "For most member functions of list, they modify in place. However, it never harms to check out the function details online, \n",
    "if you are not sure how it actually works."
   ]
  },
  {
   "cell_type": "markdown",
   "metadata": {},
   "source": [
    "### Numpy array\n",
    "Take home messages:\n",
    "- **normal array indexing does not result in a new copy**, but instead a **view**. Changes in the indexed object can also be reflected in the original object\n",
    "- **fancy indexing (non-consecutive indices) does not return views**\n",
    "- if you want a copy when choosing submatrix, you need to use specific commands (eg. `array.copy()`)"
   ]
  },
  {
   "cell_type": "code",
   "execution_count": 7,
   "metadata": {},
   "outputs": [
    {
     "name": "stdout",
     "output_type": "stream",
     "text": [
      "A is:\n",
      " [[0 1 2]\n",
      " [3 4 5]\n",
      " [6 7 8]]\n",
      "\n",
      "I. indexing -------------\n",
      "B is a subset of A:\n",
      " [[0 1]\n",
      " [3 4]]\n",
      "change B\n",
      "B is:\n",
      " [[-1 -1]\n",
      " [ 3  4]]\n",
      "A is:\n",
      " [[-1 -1  2]\n",
      " [ 3  4  5]\n",
      " [ 6  7  8]]\n",
      "\n",
      "II. fancy indexing -------------\n",
      "B is a subset of A:\n",
      " [[0 2]\n",
      " [6 8]]\n",
      "change B\n",
      "B is:\n",
      " [[99 99]\n",
      " [ 6  8]]\n",
      "A is:\n",
      " [[0 1 2]\n",
      " [3 4 5]\n",
      " [6 7 8]]\n",
      "\n",
      "III Make a copy ------------\n",
      "B is a subset of A:\n",
      " [[0 1]\n",
      " [3 4]]\n",
      "change B\n",
      "B is:\n",
      " [[-99 -99]\n",
      " [  3   4]]\n",
      "A is:\n",
      " [[0 1 2]\n",
      " [3 4 5]\n",
      " [6 7 8]]\n"
     ]
    }
   ],
   "source": [
    "import numpy as np\n",
    "A =  np.array(range(9)).reshape(3,3)\n",
    "print(\"A is:\\n\",A)\n",
    "\n",
    "# indexing\n",
    "print(\"\\nI. indexing -------------\")\n",
    "B = A[:2,:2]\n",
    "print(\"B is a subset of A:\\n\",B)\n",
    "\n",
    "print(\"change B\")\n",
    "B[0] = [-1, -1]\n",
    "print(\"B is:\\n\",B)\n",
    "print(\"A is:\\n\",A) # A is changed\n",
    "\n",
    "# fancy indexing\n",
    "print(\"\\nII. fancy indexing -------------\")\n",
    "A =  np.array(range(9)).reshape(3,3)\n",
    "B = A[[0,2],:][:,[0,2]]\n",
    "print(\"B is a subset of A:\\n\",B)\n",
    "\n",
    "print(\"change B\")\n",
    "B[0] = [99, 99]\n",
    "print(\"B is:\\n\",B)\n",
    "print(\"A is:\\n\",A) # A is also changed\n",
    "\n",
    "\n",
    "# make copy\n",
    "print(\"\\nIII Make a copy ------------\")\n",
    "A =  np.array(range(9)).reshape(3,3)\n",
    "B = A[:2,:2].copy()\n",
    "print(\"B is a subset of A:\\n\",B)\n",
    "\n",
    "print(\"change B\")\n",
    "B[0] = [-99, -99]\n",
    "print(\"B is:\\n\",B)\n",
    "print(\"A is:\\n\",A) # A not changed"
   ]
  },
  {
   "cell_type": "markdown",
   "metadata": {},
   "source": [
    "### Pandas DataFrame\n",
    "Take home messages:\n",
    "- Similar to numpy array, **normal indexing in pandas dataframe does not create a copy** either.\n",
    "- fancy indexing does not return views\n",
    "- if you want a copy when choosing dataframe, you need to use specific commands (eg. `array.copy()`)"
   ]
  },
  {
   "cell_type": "code",
   "execution_count": 8,
   "metadata": {
    "collapsed": true
   },
   "outputs": [],
   "source": [
    "import pandas as pd"
   ]
  },
  {
   "cell_type": "code",
   "execution_count": 11,
   "metadata": {},
   "outputs": [
    {
     "name": "stdout",
     "output_type": "stream",
     "text": [
      "A is:\n",
      "    A  B  C\n",
      "0  1  4  7\n",
      "1  2  5  8\n",
      "2  3  6  9\n",
      "\n",
      "I. indexing -------------\n",
      "B is a subset of A:\n",
      "    A  B\n",
      "0  1  4\n",
      "1  2  5\n",
      "add new column to B\n",
      "B is:\n",
      "    A  B   D\n",
      "0  1  4  99\n",
      "1  2  5  99\n",
      "A is:\n",
      "    A  B  C\n",
      "0  1  4  7\n",
      "1  2  5  8\n",
      "2  3  6  9\n",
      "A does not change\n",
      "\n",
      "change values that shared by A and B\n",
      "B is:\n",
      "     A  B   D\n",
      "0  99  4  99\n",
      "1  99  5  99\n",
      "A is:\n",
      "     A  B  C\n",
      "0  99  4  7\n",
      "1  99  5  8\n",
      "2   3  6  9\n",
      "A is changed\n",
      "\n",
      "\n",
      "II. fancy indexing -------------\n",
      "B is a subset of A:\n",
      "    A  C\n",
      "0  1  7\n",
      "2  3  9\n",
      "change  B\n",
      "B is:\n",
      "     A  C\n",
      "0  99  7\n",
      "2  99  9\n",
      "A is:\n",
      "    A  B  C\n",
      "0  1  4  7\n",
      "1  2  5  8\n",
      "2  3  6  9\n",
      "A is not changed\n",
      "\n",
      "\n",
      "III Make a copy ------------\n",
      "B is a subset of A:\n",
      "    A  B\n",
      "0  1  4\n",
      "1  2  5\n",
      "\n",
      "change B\n",
      "B is:\n",
      "     A  B\n",
      "0 -99  4\n",
      "1 -99  5\n",
      "A is:\n",
      "    A  B  C\n",
      "0  1  4  7\n",
      "1  2  5  8\n",
      "2  3  6  9\n",
      "A is not changed\n",
      "\n"
     ]
    }
   ],
   "source": [
    "A =  pd.DataFrame({'A':[1,2,3],'B':[4,5,6],'C':[7,8,9]})\n",
    "print(\"A is:\\n\",A)\n",
    "\n",
    "# indexing\n",
    "print(\"\\nI. indexing -------------\")\n",
    "B = A.iloc[:2,:2]\n",
    "print(\"B is a subset of A:\\n\",B)\n",
    "\n",
    "print(\"add new column to B\")\n",
    "B['D'] = [99,99]\n",
    "print(\"B is:\\n\",B)\n",
    "print(\"A is:\\n\",A)\n",
    "print(\"A does not change\\n\")\n",
    "\n",
    "print(\"change values that shared by A and B\")\n",
    "B['A'] = [99, 99]\n",
    "print(\"B is:\\n\",B)\n",
    "print(\"A is:\\n\",A)\n",
    "print(\"A is changed\\n\")\n",
    "\n",
    "print(\"\\nII. fancy indexing -------------\")\n",
    "A =  pd.DataFrame({'A':[1,2,3],'B':[4,5,6],'C':[7,8,9]})\n",
    "B = A.iloc[[0,2],[0,2]]\n",
    "print(\"B is a subset of A:\\n\",B)\n",
    "\n",
    "print(\"change  B\")\n",
    "B['A'] = [99, 99]\n",
    "print(\"B is:\\n\",B)\n",
    "print(\"A is:\\n\",A)\n",
    "print(\"A is not changed\\n\")\n",
    "\n",
    "\n",
    "# make copy\n",
    "print(\"\\nIII Make a copy ------------\")\n",
    "A =  pd.DataFrame({'A':[1,2,3],'B':[4,5,6],'C':[7,8,9]})\n",
    "B = A.iloc[:2,:2].copy()\n",
    "print(\"B is a subset of A:\\n\",B)\n",
    "print(\"\\nchange B\")\n",
    "B['A'] = [-99, -99]\n",
    "print(\"B is:\\n\",B)\n",
    "print(\"A is:\\n\",A) # A not changed\n",
    "print(\"A is not changed\\n\")"
   ]
  }
 ],
 "metadata": {
  "kernelspec": {
   "display_name": "Python 3",
   "language": "python",
   "name": "python3"
  },
  "language_info": {
   "codemirror_mode": {
    "name": "ipython",
    "version": 3
   },
   "file_extension": ".py",
   "mimetype": "text/x-python",
   "name": "python",
   "nbconvert_exporter": "python",
   "pygments_lexer": "ipython3",
   "version": "3.6.3"
  }
 },
 "nbformat": 4,
 "nbformat_minor": 2
}
